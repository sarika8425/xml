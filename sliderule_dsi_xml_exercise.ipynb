{
 "cells": [
  {
   "cell_type": "markdown",
   "metadata": {},
   "source": [
    "# XML example and exercise\n",
    "****\n",
    "+ study examples of accessing nodes in XML tree structure  \n",
    "+ work on exercise to be completed and submitted\n",
    "****\n",
    "+ reference: https://docs.python.org/2.7/library/xml.etree.elementtree.html\n",
    "+ data source: http://www.dbis.informatik.uni-goettingen.de/Mondial\n",
    "****"
   ]
  },
  {
   "cell_type": "code",
   "execution_count": 2,
   "metadata": {
    "collapsed": true
   },
   "outputs": [],
   "source": [
    "from xml.etree import ElementTree as ET"
   ]
  },
  {
   "cell_type": "markdown",
   "metadata": {},
   "source": [
    "## XML example\n",
    "\n",
    "+ for details about tree traversal and iterators, see https://docs.python.org/2.7/library/xml.etree.elementtree.html"
   ]
  },
  {
   "cell_type": "code",
   "execution_count": 56,
   "metadata": {
    "collapsed": true
   },
   "outputs": [],
   "source": [
    "document_tree = ET.parse( './data/mondial_database_less.xml' )"
   ]
  },
  {
   "cell_type": "code",
   "execution_count": 40,
   "metadata": {
    "collapsed": false
   },
   "outputs": [
    {
     "name": "stdout",
     "output_type": "stream",
     "text": [
      "Albania\n",
      "Greece\n",
      "Macedonia\n",
      "Serbia\n",
      "Montenegro\n",
      "Kosovo\n",
      "Andorra\n"
     ]
    }
   ],
   "source": [
    "# print names of all countries\n",
    "for child in document_tree.getroot():\n",
    "    print child.find('name').text"
   ]
  },
  {
   "cell_type": "code",
   "execution_count": 165,
   "metadata": {
    "collapsed": false
   },
   "outputs": [
    {
     "name": "stdout",
     "output_type": "stream",
     "text": [
      "* Albania: Tirana, Shkodër, Durrës, Vlorë, Elbasan, Korçë\n",
      "* Greece: Komotini, Kavala, Athina, Peiraias, Peristeri, Acharnes, Patra, Kozani, Kerkyra, Ioannina, Thessaloniki, Iraklio, Chania, Ermoupoli, Rhodes, Tripoli, Lamia, Chalkida, Larissa, Volos, Mytilini, Karyes\n",
      "* Macedonia: Skopje, Kumanovo\n",
      "* Serbia: Beograd, Novi Sad, Niš\n",
      "* Montenegro: Podgorica\n",
      "* Kosovo: Prishtine\n",
      "* Andorra: Andorra la Vella\n"
     ]
    }
   ],
   "source": [
    "# print names of all countries and their cities\n",
    "for element in document_tree.iterfind('country'):\n",
    "    print '* ' + element.find('name').text + ':',\n",
    "    capitals_string = ''\n",
    "    for subelement in element.getiterator('city'):\n",
    "        capitals_string += subelement.find('name').text \n",
    "    print capitals_string[:-2]"
   ]
  },
  {
   "cell_type": "code",
   "execution_count": null,
   "metadata": {
    "collapsed": false
   },
   "outputs": [],
   "source": []
  },
  {
   "cell_type": "code",
   "execution_count": null,
   "metadata": {
    "collapsed": false
   },
   "outputs": [],
   "source": [
    "\n",
    "\n"
   ]
  },
  {
   "cell_type": "code",
   "execution_count": null,
   "metadata": {
    "collapsed": false
   },
   "outputs": [],
   "source": []
  },
  {
   "cell_type": "code",
   "execution_count": null,
   "metadata": {
    "collapsed": false
   },
   "outputs": [],
   "source": []
  },
  {
   "cell_type": "code",
   "execution_count": null,
   "metadata": {
    "collapsed": false
   },
   "outputs": [],
   "source": [
    "\n"
   ]
  },
  {
   "cell_type": "code",
   "execution_count": null,
   "metadata": {
    "collapsed": false
   },
   "outputs": [],
   "source": [
    "\n"
   ]
  },
  {
   "cell_type": "code",
   "execution_count": null,
   "metadata": {
    "collapsed": false
   },
   "outputs": [],
   "source": []
  },
  {
   "cell_type": "code",
   "execution_count": null,
   "metadata": {
    "collapsed": false
   },
   "outputs": [],
   "source": []
  },
  {
   "cell_type": "code",
   "execution_count": null,
   "metadata": {
    "collapsed": false,
    "scrolled": true
   },
   "outputs": [],
   "source": []
  },
  {
   "cell_type": "markdown",
   "metadata": {},
   "source": [
    "****\n",
    "## XML exercise\n",
    "\n",
    "Using data in 'data/mondial_database.xml', the examples above, and refering to https://docs.python.org/2.7/library/xml.etree.elementtree.html, find\n",
    "\n",
    "1. 10 countries with the lowest infant mortality s\n",
    "2. 10 cities with the largest population\n",
    "3. 10 ethnic groups with the largest overall populations (sum of best/latest estimates over all countries)\n",
    "4. name and country of a) longest river, b) largest lake and c) airport at highest elevation"
   ]
  },
  {
   "cell_type": "code",
   "execution_count": 78,
   "metadata": {
    "collapsed": false
   },
   "outputs": [],
   "source": [
    "tree = ET.parse( './data/mondial_database.xml' )\n",
    "root = tree.getroot()"
   ]
  },
  {
   "cell_type": "code",
   "execution_count": null,
   "metadata": {
    "collapsed": false
   },
   "outputs": [],
   "source": []
  },
  {
   "cell_type": "markdown",
   "metadata": {
    "collapsed": false
   },
   "source": [
    " 10 countries with the lowest infant mortality"
   ]
  },
  {
   "cell_type": "code",
   "execution_count": 79,
   "metadata": {
    "collapsed": false
   },
   "outputs": [],
   "source": [
    "country_infmort=[]\n",
    "for i in range(len(root)):\n",
    "   try:\n",
    "    country_infmort.append((root[i].find('name').text, root[i].find('infant_mortality').text))\n",
    "   except:\n",
    "    continue"
   ]
  },
  {
   "cell_type": "code",
   "execution_count": 80,
   "metadata": {
    "collapsed": false
   },
   "outputs": [
    {
     "name": "stdout",
     "output_type": "stream",
     "text": [
      "10 countries with lowest infant mortality rates are \n",
      "\n",
      "['Monaco', 'Romania', 'Fiji', 'Brunei', 'Grenada', 'Mauritius', 'Panama', 'Seychelles', 'United Arab Emirates', 'Barbados']\n"
     ]
    }
   ],
   "source": [
    "country_infmort.sort(key=lambda x: x[1])\n",
    "print \"10 countries with lowest infant mortality rates are \\n\"\n",
    "print map(lambda x: x[0],country_infmort[:10])"
   ]
  },
  {
   "cell_type": "code",
   "execution_count": null,
   "metadata": {
    "collapsed": true
   },
   "outputs": [],
   "source": []
  },
  {
   "cell_type": "markdown",
   "metadata": {
    "collapsed": true
   },
   "source": [
    "10 cities with largest population"
   ]
  },
  {
   "cell_type": "code",
   "execution_count": null,
   "metadata": {
    "collapsed": false
   },
   "outputs": [],
   "source": []
  },
  {
   "cell_type": "code",
   "execution_count": null,
   "metadata": {
    "collapsed": false
   },
   "outputs": [],
   "source": []
  },
  {
   "cell_type": "code",
   "execution_count": null,
   "metadata": {
    "collapsed": false
   },
   "outputs": [],
   "source": [
    "  "
   ]
  },
  {
   "cell_type": "code",
   "execution_count": null,
   "metadata": {
    "collapsed": false
   },
   "outputs": [],
   "source": []
  },
  {
   "cell_type": "code",
   "execution_count": 81,
   "metadata": {
    "collapsed": false
   },
   "outputs": [
    {
     "name": "stdout",
     "output_type": "stream",
     "text": [
      "Top 10 cities with highest population in 2011 are \n",
      "\n",
      "['Mokpo', 'Jeju', 'Gunsan', 'Chuncheon', 'Yeosu', 'Goyang', 'Yongin', 'Bucheon', 'Ansan', 'Anyang']\n"
     ]
    }
   ],
   "source": [
    "city_pop=[]\n",
    "for i in range(len(root)):\n",
    "    for subelement in root[i].getiterator('city'):\n",
    "        city=subelement.find('name').text \n",
    "        year_pop = {}\n",
    "        for pop in root[i].iterfind('./city/population'):\n",
    "            year_pop.update({pop.attrib['year']: int(pop.text)})\n",
    "            try:\n",
    "                latest_pop = year_pop[str(max(map(int,year_pop.keys())))]\n",
    "                city_pop.append((city,latest_pop))\n",
    "            except:\n",
    "                continue\n",
    "city_pop.sort(key=lambda x: x[1])\n",
    "print \"Top 10 cities with highest population in 2011 are \\n\"\n",
    "print map(lambda x: x[0],city_pop[-10:])"
   ]
  },
  {
   "cell_type": "code",
   "execution_count": 83,
   "metadata": {
    "collapsed": false
   },
   "outputs": [
    {
     "name": "stdout",
     "output_type": "stream",
     "text": [
      "The top 10 ethnicities with largest overall populations\n",
      "\n",
      "['Mediterranean Nordic', 'English', 'Viet/Kinh', 'Mulatto', 'Eastern Hamitic', 'Japanese', 'Bengali', 'Dravidian', 'Indo-Aryan', 'Han Chinese']\n"
     ]
    }
   ],
   "source": [
    "country_pop = []\n",
    "ethnic_groups = {}\n",
    "for i in range(len(root)):\n",
    "    country = root[i].find('name').text\n",
    "    year_pop = {}\n",
    "    for subelement in root[i].iterfind('population'):\n",
    "        year_pop.update({subelement.attrib['year']: int(subelement.text)})\n",
    "    try:\n",
    "        latest_pop = year_pop[str(max(map(int,year_pop.keys())))]\n",
    "        country_pop.append((country,latest_pop))\n",
    "        for ethnic_element in root[i].iterfind('ethnicgroup'):\n",
    "            new_pop = float(ethnic_element.attrib['percentage'])*latest_pop\n",
    "            if ethnic_element in ethnic_groups.keys():\n",
    "                ethnic_groups[ethnic_element.text] = ethnic_groups[ethnic_element.text] + new_pop\n",
    "            else:\n",
    "                ethnic_groups.update({ethnic_element.text: new_pop})\n",
    "    except:\n",
    "        continue\n",
    "print \"The top 10 ethnicities with largest overall populations\\n\"\n",
    "print sorted(ethnic_groups, key=ethnic_groups.get)[-10:]"
   ]
  },
  {
   "cell_type": "code",
   "execution_count": null,
   "metadata": {
    "collapsed": false
   },
   "outputs": [],
   "source": []
  },
  {
   "cell_type": "code",
   "execution_count": 84,
   "metadata": {
    "collapsed": false
   },
   "outputs": [
    {
     "name": "stdout",
     "output_type": "stream",
     "text": [
      "country with longest river\n",
      "[('CO BR PE', 'Amazonas', 6448)]\n"
     ]
    }
   ],
   "source": [
    "country_riv = []\n",
    "\n",
    "for i in range(len(root)): \n",
    "        for subelement in root[i].getiterator('river'):\n",
    "                try:\n",
    "                    river=subelement.find('name').text\n",
    "                    country=subelement.attrib['country']\n",
    "                    length=int(subelement.find('length').text)\n",
    "                    country_riv.append((country,river,length))\n",
    "                except:\n",
    "                    continue \n",
    "            \n",
    "country_riv.sort(key=lambda x: x[2])\n",
    "print \"country with longest river\"\n",
    "print map(lambda x: x,country_riv[-1:])\n"
   ]
  },
  {
   "cell_type": "code",
   "execution_count": null,
   "metadata": {
    "collapsed": false
   },
   "outputs": [],
   "source": [
    "\n"
   ]
  },
  {
   "cell_type": "code",
   "execution_count": 16,
   "metadata": {
    "collapsed": false
   },
   "outputs": [
    {
     "name": "stdout",
     "output_type": "stream",
     "text": [
      "airport at highest elevation\n",
      "[('BOL', 'El Alto Intl')]\n"
     ]
    }
   ],
   "source": [
    "country_air = []\n",
    "for i in range(len(root)):\n",
    "    for subelement in root[i].getiterator('airport'):\n",
    "        try:\n",
    "                lake=subelement.find('name').text\n",
    "                country=subelement.attrib['country']\n",
    "                length=int(subelement.find('elevation').text)\n",
    "                country_air.append((country,lake,length))\n",
    "        except:\n",
    "            continue \n",
    "            \n",
    "country_air.sort(key=lambda x: x[2])\n",
    "\n",
    "print \"airport at highest elevation\"\n",
    "print map(lambda x: x[:2],country_air[-1:])\n"
   ]
  },
  {
   "cell_type": "code",
   "execution_count": 15,
   "metadata": {
    "collapsed": false
   },
   "outputs": [
    {
     "name": "stdout",
     "output_type": "stream",
     "text": [
      "country with largest lake\n",
      "[('R AZ KAZ IR TM', 'Caspian Sea')]\n"
     ]
    }
   ],
   "source": [
    "country_lake = []\n",
    "for i in range(len(root)):\n",
    "    for subelement in root[i].getiterator('lake'):\n",
    "        try:\n",
    "                lake=subelement.find('name').text\n",
    "                country=subelement.attrib['country']\n",
    "                length=int(subelement.find('area').text)\n",
    "                country_lake.append((country,lake,length))\n",
    "        except:\n",
    "            continue \n",
    "            \n",
    "country_lake.sort(key=lambda x: x[2])\n",
    "\n",
    "print \"country with largest lake\"\n",
    "print map(lambda x: x[:2],country_lake[-1:])\n"
   ]
  },
  {
   "cell_type": "code",
   "execution_count": 33,
   "metadata": {
    "collapsed": false
   },
   "outputs": [
    {
     "data": {
      "text/html": [
       "<div>\n",
       "<table border=\"1\" class=\"dataframe\">\n",
       "  <thead>\n",
       "    <tr style=\"text-align: right;\">\n",
       "      <th></th>\n",
       "      <th>country</th>\n",
       "      <th>code</th>\n",
       "    </tr>\n",
       "  </thead>\n",
       "  <tbody>\n",
       "    <tr>\n",
       "      <th>0</th>\n",
       "      <td>Albania</td>\n",
       "      <td>AL</td>\n",
       "    </tr>\n",
       "    <tr>\n",
       "      <th>1</th>\n",
       "      <td>Greece</td>\n",
       "      <td>GR</td>\n",
       "    </tr>\n",
       "    <tr>\n",
       "      <th>2</th>\n",
       "      <td>Macedonia</td>\n",
       "      <td>MK</td>\n",
       "    </tr>\n",
       "    <tr>\n",
       "      <th>3</th>\n",
       "      <td>Serbia</td>\n",
       "      <td>SRB</td>\n",
       "    </tr>\n",
       "    <tr>\n",
       "      <th>4</th>\n",
       "      <td>Montenegro</td>\n",
       "      <td>MNE</td>\n",
       "    </tr>\n",
       "  </tbody>\n",
       "</table>\n",
       "</div>"
      ],
      "text/plain": [
       "      country code\n",
       "0     Albania   AL\n",
       "1      Greece   GR\n",
       "2   Macedonia   MK\n",
       "3      Serbia  SRB\n",
       "4  Montenegro  MNE"
      ]
     },
     "execution_count": 33,
     "metadata": {},
     "output_type": "execute_result"
    }
   ],
   "source": [
    "import pandas as pd\n",
    "cc=pd.DataFrame(country_code)\n",
    "cc = cc.rename(columns={0: 'country', 1: 'code'})\n",
    "cc.head()"
   ]
  },
  {
   "cell_type": "code",
   "execution_count": 99,
   "metadata": {
    "collapsed": false
   },
   "outputs": [
    {
     "data": {
      "text/html": [
       "<div>\n",
       "<table border=\"1\" class=\"dataframe\">\n",
       "  <thead>\n",
       "    <tr style=\"text-align: right;\">\n",
       "      <th></th>\n",
       "      <th>code</th>\n",
       "      <th>river</th>\n",
       "    </tr>\n",
       "  </thead>\n",
       "  <tbody>\n",
       "    <tr>\n",
       "      <th>0</th>\n",
       "      <td>CO BR PE</td>\n",
       "      <td>Amazonas</td>\n",
       "    </tr>\n",
       "    <tr>\n",
       "      <th>1</th>\n",
       "      <td>CO</td>\n",
       "      <td>Amazonas</td>\n",
       "    </tr>\n",
       "    <tr>\n",
       "      <th>2</th>\n",
       "      <td>BR</td>\n",
       "      <td>Amazonas</td>\n",
       "    </tr>\n",
       "    <tr>\n",
       "      <th>3</th>\n",
       "      <td>PE</td>\n",
       "      <td>Amazonas</td>\n",
       "    </tr>\n",
       "    <tr>\n",
       "      <th>4</th>\n",
       "      <td>NaN</td>\n",
       "      <td>Amazonas</td>\n",
       "    </tr>\n",
       "    <tr>\n",
       "      <th>5</th>\n",
       "      <td>NaN</td>\n",
       "      <td>Amazonas</td>\n",
       "    </tr>\n",
       "  </tbody>\n",
       "</table>\n",
       "</div>"
      ],
      "text/plain": [
       "       code     river\n",
       "0  CO BR PE  Amazonas\n",
       "1        CO  Amazonas\n",
       "2        BR  Amazonas\n",
       "3        PE  Amazonas\n",
       "4       NaN  Amazonas\n",
       "5       NaN  Amazonas"
      ]
     },
     "execution_count": 99,
     "metadata": {},
     "output_type": "execute_result"
    }
   ],
   "source": [
    "cr=pd.DataFrame(country_riv[-1:])\n",
    "cr = cr.rename(columns={0: 'code', 1: 'river'})\n",
    "cr=cr[['code','river']]\n",
    "t=cr.code\n",
    "t1 = t.str.split().str[0]\n",
    "t2 = t.str.split().str[1]\n",
    "t3 = t.str.split().str[2]\n",
    "t4 = t.str.split().str[3]\n",
    "t5 = t.str.split().str[4]\n",
    "t=pd.concat([t,t1,t2,t3,t4,t5])\n",
    "t=pd.DataFrame(t)\n",
    "t= t.rename(columns={0: 'code'})\n",
    "cr = pd.merge(cr, t, how='right')\n",
    "cr.river=cr.river.ffill()\n",
    "cr"
   ]
  },
  {
   "cell_type": "code",
   "execution_count": 77,
   "metadata": {
    "collapsed": false
   },
   "outputs": [
    {
     "ename": "NameError",
     "evalue": "name 'pd' is not defined",
     "output_type": "error",
     "traceback": [
      "\u001b[1;31m---------------------------------------------------------------------------\u001b[0m",
      "\u001b[1;31mNameError\u001b[0m                                 Traceback (most recent call last)",
      "\u001b[1;32m<ipython-input-77-3eafcfdcde7a>\u001b[0m in \u001b[0;36m<module>\u001b[1;34m()\u001b[0m\n\u001b[1;32m----> 1\u001b[1;33m \u001b[0mcl\u001b[0m\u001b[1;33m=\u001b[0m\u001b[0mpd\u001b[0m\u001b[1;33m.\u001b[0m\u001b[0mDataFrame\u001b[0m\u001b[1;33m(\u001b[0m\u001b[0mcountry_lake\u001b[0m\u001b[1;33m[\u001b[0m\u001b[1;33m-\u001b[0m\u001b[1;36m1\u001b[0m\u001b[1;33m:\u001b[0m\u001b[1;33m]\u001b[0m\u001b[1;33m)\u001b[0m\u001b[1;33m\u001b[0m\u001b[0m\n\u001b[0m\u001b[0;32m      2\u001b[0m \u001b[0mcl\u001b[0m \u001b[1;33m=\u001b[0m \u001b[0mcl\u001b[0m\u001b[1;33m.\u001b[0m\u001b[0mrename\u001b[0m\u001b[1;33m(\u001b[0m\u001b[0mcolumns\u001b[0m\u001b[1;33m=\u001b[0m\u001b[1;33m{\u001b[0m\u001b[1;36m0\u001b[0m\u001b[1;33m:\u001b[0m \u001b[1;34m'code'\u001b[0m\u001b[1;33m,\u001b[0m \u001b[1;36m1\u001b[0m\u001b[1;33m:\u001b[0m \u001b[1;34m'lake'\u001b[0m\u001b[1;33m}\u001b[0m\u001b[1;33m)\u001b[0m\u001b[1;33m\u001b[0m\u001b[0m\n\u001b[0;32m      3\u001b[0m \u001b[0mcl\u001b[0m\u001b[1;33m=\u001b[0m\u001b[0mcl\u001b[0m\u001b[1;33m[\u001b[0m\u001b[1;33m[\u001b[0m\u001b[1;34m'code'\u001b[0m\u001b[1;33m,\u001b[0m\u001b[1;34m'lake'\u001b[0m\u001b[1;33m]\u001b[0m\u001b[1;33m]\u001b[0m\u001b[1;33m\u001b[0m\u001b[0m\n\u001b[0;32m      4\u001b[0m \u001b[0mt\u001b[0m\u001b[1;33m=\u001b[0m\u001b[0mcl\u001b[0m\u001b[1;33m.\u001b[0m\u001b[0mcode\u001b[0m\u001b[1;33m\u001b[0m\u001b[0m\n\u001b[0;32m      5\u001b[0m \u001b[0mt1\u001b[0m \u001b[1;33m=\u001b[0m \u001b[0mt\u001b[0m\u001b[1;33m.\u001b[0m\u001b[0mstr\u001b[0m\u001b[1;33m.\u001b[0m\u001b[0msplit\u001b[0m\u001b[1;33m(\u001b[0m\u001b[1;33m)\u001b[0m\u001b[1;33m.\u001b[0m\u001b[0mstr\u001b[0m\u001b[1;33m[\u001b[0m\u001b[1;36m0\u001b[0m\u001b[1;33m]\u001b[0m\u001b[1;33m\u001b[0m\u001b[0m\n",
      "\u001b[1;31mNameError\u001b[0m: name 'pd' is not defined"
     ]
    }
   ],
   "source": [
    "cl=pd.DataFrame(country_lake[-1:])\n",
    "cl = cl.rename(columns={0: 'code', 1: 'lake'})\n",
    "cl=cl[['code','lake']]\n",
    "t=cl.code\n",
    "t1 = t.str.split().str[0]\n",
    "t2 = t.str.split().str[1]\n",
    "t3 = t.str.split().str[2]\n",
    "t4 = t.str.split().str[3]\n",
    "t5 = t.str.split().str[4]\n",
    "t=pd.concat([t,t1,t2,t3,t4,t5])\n",
    "t=pd.DataFrame(t)\n",
    "t= t.rename(columns={0: 'code'})\n",
    "cl = pd.merge(cl, t, how='right')\n",
    "cl.lake=cl.lake.ffill()"
   ]
  },
  {
   "cell_type": "code",
   "execution_count": 45,
   "metadata": {
    "collapsed": false
   },
   "outputs": [],
   "source": [
    "ca=pd.DataFrame(country_air[-1:])\n",
    "ca = ca.rename(columns={0: 'code', 1: 'airport'})\n",
    "ca=ca[['code','airport']]"
   ]
  },
  {
   "cell_type": "code",
   "execution_count": null,
   "metadata": {
    "collapsed": true
   },
   "outputs": [],
   "source": []
  },
  {
   "cell_type": "code",
   "execution_count": 49,
   "metadata": {
    "collapsed": false
   },
   "outputs": [
    {
     "data": {
      "text/html": [
       "<div>\n",
       "<table border=\"1\" class=\"dataframe\">\n",
       "  <thead>\n",
       "    <tr style=\"text-align: right;\">\n",
       "      <th></th>\n",
       "      <th>country</th>\n",
       "      <th>airport</th>\n",
       "    </tr>\n",
       "  </thead>\n",
       "  <tbody>\n",
       "    <tr>\n",
       "      <th>0</th>\n",
       "      <td>Bolivia</td>\n",
       "      <td>El Alto Intl</td>\n",
       "    </tr>\n",
       "  </tbody>\n",
       "</table>\n",
       "</div>"
      ],
      "text/plain": [
       "   country       airport\n",
       "0  Bolivia  El Alto Intl"
      ]
     },
     "execution_count": 49,
     "metadata": {},
     "output_type": "execute_result"
    }
   ],
   "source": [
    "dfMerged = pd.merge(cc, ca,\n",
    "              left_on=['code'],\n",
    "              right_on=['code'],\n",
    "              how='inner')\n",
    "dfMerged[['country','airport']]"
   ]
  },
  {
   "cell_type": "code",
   "execution_count": 94,
   "metadata": {
    "collapsed": false
   },
   "outputs": [
    {
     "data": {
      "text/html": [
       "<div>\n",
       "<table border=\"1\" class=\"dataframe\">\n",
       "  <thead>\n",
       "    <tr style=\"text-align: right;\">\n",
       "      <th></th>\n",
       "      <th>country</th>\n",
       "      <th>lake</th>\n",
       "    </tr>\n",
       "  </thead>\n",
       "  <tbody>\n",
       "    <tr>\n",
       "      <th>0</th>\n",
       "      <td>Russia</td>\n",
       "      <td>Caspian Sea</td>\n",
       "    </tr>\n",
       "    <tr>\n",
       "      <th>1</th>\n",
       "      <td>Iran</td>\n",
       "      <td>Caspian Sea</td>\n",
       "    </tr>\n",
       "    <tr>\n",
       "      <th>2</th>\n",
       "      <td>Turkmenistan</td>\n",
       "      <td>Caspian Sea</td>\n",
       "    </tr>\n",
       "    <tr>\n",
       "      <th>3</th>\n",
       "      <td>Azerbaijan</td>\n",
       "      <td>Caspian Sea</td>\n",
       "    </tr>\n",
       "    <tr>\n",
       "      <th>4</th>\n",
       "      <td>Kazakhstan</td>\n",
       "      <td>Caspian Sea</td>\n",
       "    </tr>\n",
       "  </tbody>\n",
       "</table>\n",
       "</div>"
      ],
      "text/plain": [
       "        country         lake\n",
       "0        Russia  Caspian Sea\n",
       "1          Iran  Caspian Sea\n",
       "2  Turkmenistan  Caspian Sea\n",
       "3    Azerbaijan  Caspian Sea\n",
       "4    Kazakhstan  Caspian Sea"
      ]
     },
     "execution_count": 94,
     "metadata": {},
     "output_type": "execute_result"
    }
   ],
   "source": [
    "dfMerged = pd.merge(cc, cl,\n",
    "              left_on=['code'],\n",
    "              right_on=['code'],\n",
    "              how='inner')\n",
    "dfMerged[['country','lake']]"
   ]
  },
  {
   "cell_type": "code",
   "execution_count": 100,
   "metadata": {
    "collapsed": false
   },
   "outputs": [
    {
     "data": {
      "text/html": [
       "<div>\n",
       "<table border=\"1\" class=\"dataframe\">\n",
       "  <thead>\n",
       "    <tr style=\"text-align: right;\">\n",
       "      <th></th>\n",
       "      <th>country</th>\n",
       "      <th>river</th>\n",
       "    </tr>\n",
       "  </thead>\n",
       "  <tbody>\n",
       "    <tr>\n",
       "      <th>0</th>\n",
       "      <td>Colombia</td>\n",
       "      <td>Amazonas</td>\n",
       "    </tr>\n",
       "    <tr>\n",
       "      <th>1</th>\n",
       "      <td>Brazil</td>\n",
       "      <td>Amazonas</td>\n",
       "    </tr>\n",
       "    <tr>\n",
       "      <th>2</th>\n",
       "      <td>Peru</td>\n",
       "      <td>Amazonas</td>\n",
       "    </tr>\n",
       "  </tbody>\n",
       "</table>\n",
       "</div>"
      ],
      "text/plain": [
       "    country     river\n",
       "0  Colombia  Amazonas\n",
       "1    Brazil  Amazonas\n",
       "2      Peru  Amazonas"
      ]
     },
     "execution_count": 100,
     "metadata": {},
     "output_type": "execute_result"
    }
   ],
   "source": [
    "dfMerged = pd.merge(cc, cr,\n",
    "              left_on=['code'],\n",
    "              right_on=['code'],\n",
    "              how='inner')\n",
    "dfMerged[['country','river']]"
   ]
  },
  {
   "cell_type": "code",
   "execution_count": null,
   "metadata": {
    "collapsed": false
   },
   "outputs": [],
   "source": []
  },
  {
   "cell_type": "code",
   "execution_count": null,
   "metadata": {
    "collapsed": true
   },
   "outputs": [],
   "source": []
  }
 ],
 "metadata": {
  "kernelspec": {
   "display_name": "Python 2",
   "language": "python",
   "name": "python2"
  },
  "language_info": {
   "codemirror_mode": {
    "name": "ipython",
    "version": 2
   },
   "file_extension": ".py",
   "mimetype": "text/x-python",
   "name": "python",
   "nbconvert_exporter": "python",
   "pygments_lexer": "ipython2",
   "version": "2.7.10"
  }
 },
 "nbformat": 4,
 "nbformat_minor": 0
}
